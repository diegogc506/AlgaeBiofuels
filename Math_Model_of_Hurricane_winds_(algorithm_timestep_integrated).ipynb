{
  "nbformat": 4,
  "nbformat_minor": 0,
  "metadata": {
    "colab": {
      "name": "Math Model of Hurricane winds (algorithm timestep integrated)",
      "provenance": [],
      "authorship_tag": "ABX9TyMugZtWpzu7ApIycbSmXcm6",
      "include_colab_link": true
    },
    "kernelspec": {
      "name": "python3",
      "display_name": "Python 3"
    },
    "language_info": {
      "name": "python"
    }
  },
  "cells": [
    {
      "cell_type": "markdown",
      "metadata": {
        "id": "view-in-github",
        "colab_type": "text"
      },
      "source": [
        "<a href=\"https://colab.research.google.com/github/diegogc506/AlgaeBiofuels/blob/master/Math_Model_of_Hurricane_winds_(algorithm_timestep_integrated).ipynb\" target=\"_parent\"><img src=\"https://colab.research.google.com/assets/colab-badge.svg\" alt=\"Open In Colab\"/></a>"
      ]
    },
    {
      "cell_type": "code",
      "metadata": {
        "id": "UVCGxzP99nhH"
      },
      "source": [
        "import math\n",
        "import pandas as pd\n",
        "import numpy as np\n",
        "import seaborn as sns\n",
        "import matplotlib.pyplot as plt\n"
      ],
      "execution_count": 75,
      "outputs": []
    },
    {
      "cell_type": "code",
      "metadata": {
        "id": "Ok342lCBqUsj"
      },
      "source": [
        "# Defining parameters (alpha is the decay factor)\n",
        "K = 1.14\n",
        "alpha = 0.04 \n",
        "Beta = 10\n",
        "r_mw = 30\n",
        "r_s = 200\n",
        "w_m = 75\n",
        "longi = 1\n",
        "E = K*w_m"
      ],
      "execution_count": 76,
      "outputs": []
    },
    {
      "cell_type": "code",
      "metadata": {
        "id": "Xr5gVW_j-JLW"
      },
      "source": [
        "# Piecewise Mathematical equation 'W(x)' for windspeed with respect to distance from hurricane eye\n",
        "def w(dist, r_mw, r_s, w_m):\n",
        "  if dist>= 0 and dist<30:\n",
        "    ans = (E)*1-math.exp(-longi*dist)\n",
        "  elif dist>=r_mw and dist<=r_s:\n",
        "    ans = w_m*math.exp(-(np.log(Beta)/(r_s-r_mw))*(dist-r_mw))\n",
        "  else:\n",
        "    ans = 0\n",
        "  return ans;\n",
        "\n",
        "# function to define distance from center point\n",
        "def distance(c_xval, c_yval, x_xval, x_yval):\n",
        "  L = math.sqrt((c_xval-x_xval)**2 + (c_yval-x_yval)**2)\n",
        "  return L;"
      ],
      "execution_count": 78,
      "outputs": []
    },
    {
      "cell_type": "code",
      "metadata": {
        "id": "C95GKvY9iPuH"
      },
      "source": [
        "def staticmodel(c_xval, c_yval, r_mw, r_s, w_m):\n",
        "  # try to use grid to get directly to distance formula\n",
        "  df = pd.DataFrame()\n",
        "  # define hurricane center\n",
        "  for x in range(200):\n",
        "    nums = []\n",
        "    for y in range(200):\n",
        "      dist = distance(c_xval, c_yval, x,y)\n",
        "      nums.append(w(dist, r_mw, r_s, w_m))\n",
        "    ser = pd.Series(data=nums, name=str(x))\n",
        "    df = df.append(ser)\n",
        "  return df\n",
        "\n",
        "# moving center using vector\n",
        "def vector_shift(angle, magnitude, rads_bool, c_xval, c_yval):\n",
        "  if rads_bool == True:\n",
        "    c_xval += math.cos(angle)*magnitude\n",
        "    c_yval += math.sin(angle)*magnitude\n",
        "  else:\n",
        "    c_xval += math.cos(angle*180/math.pi)*magnitude\n",
        "    c_yval += math.sin(angle*180/math.pi)*magnitude\n",
        "  return(c_xval,c_yval)\n"
      ],
      "execution_count": 79,
      "outputs": []
    },
    {
      "cell_type": "code",
      "metadata": {
        "id": "lcYN6XJ1CShI"
      },
      "source": [
        "r_mwo, r_so, w_mo = r_mw, r_s, w_m\n",
        "xcenters = [100,110,120,130,140,150]\n",
        "ycenters = [100,90,80,70,60,50]\n",
        "def timestepadj (path_x, path_y, r_mwo, r_so, w_mo):\n",
        "  timestep = {}\n",
        "  lafl_x, lafl_y = path_x[0], path_y[0]  \n",
        "  # lafl values\n",
        "  delt_Po = math.sqrt((2.636 + (0.0394899*lafl_y) - (math.log(r_mwo)))/0.0005086)\n",
        "  B_o = 1.38 + 0.00184*delt_Po-0.00309*r_mwo\n",
        "  for tI in range(len(xcenters)):\n",
        "    I_x,I_y = xcenters[tI], ycenters[tI]\n",
        "    # r_mwI for hurr 'I'\n",
        "    delt_PI = delt_Po * math.exp(-alpha*tI)\n",
        "    r_mwI = math.exp(2.636 - 0.0005086*(delt_Po**2) + 0.0394899*I_y)\n",
        "    # w_mI for hurr 'I'\n",
        "    B_I = 1.38 + 0.00184*delt_PI - 0.00309*r_mwI\n",
        "    w_mI = w_mo*math.sqrt((B_I*delt_PI)/(B_o*delt_Po))\n",
        "    # make static model\n",
        "    name = 'TS' + str(tI)\n",
        "    timestep[name] = staticmodel(I_x, I_y, r_mwI, r_s, w_m)\n",
        "  return timestep\n"
      ],
      "execution_count": null,
      "outputs": []
    },
    {
      "cell_type": "code",
      "metadata": {
        "id": "acMytji5Ldld"
      },
      "source": [
        "#@title create/access timestep { run: \"auto\" }\n",
        "step = 5 #@param {type:\"slider\", min:0, max:5, step:1}\n",
        "TS = 'TS' + str(step)\n",
        "model=timestepadj(xcenters, ycenters, r_mwo, r_so, w_mo)\n",
        "df = model[TS]\n",
        "\n",
        "fig, ax = plt.subplots(figsize=(14,10))\n",
        "title = \"Static windspeed model\"\n",
        "plt.title(title, fontsize=18)\n",
        "ttl = ax.title\n",
        "ttl.set_position([.5,1.05])\n",
        "ax.set_xticks([])\n",
        "ax.set_yticks([])\n",
        "ax.axis('off')\n",
        "sns.heatmap(df, annot=False, cmap='Greens', linewidths=0.0, ax=ax)\n",
        "plt.show()"
      ],
      "execution_count": null,
      "outputs": []
    }
  ]
}